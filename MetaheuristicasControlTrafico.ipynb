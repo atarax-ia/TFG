{
 "cells": [
  {
   "cell_type": "markdown",
   "metadata": {},
   "source": [
    "| <img src=\"./img/upv.png\"> | <img src=\"./img/etsinf.png\"> |\n",
    "\n",
    "\n",
    "# Diseño y aplicación de técnicas metaheurísticas para el control de tráfico\n",
    "\n",
    "\n",
    "### Universitat Politècnica de València\n",
    "\n",
    "\n",
    "### Escola Tècnica Superior d’Enginyeria Informàtica\n",
    "\n",
    "\n",
    "##### Grado en Ingeniería Informática\n",
    "\n",
    "\n",
    "##### Trabajo Fin de Grado\n",
    "\n",
    "\n",
    "2021 / 22"
   ]
  },
  {
   "cell_type": "markdown",
   "metadata": {},
   "source": [
    "## Librerías\n",
    "\n",
    "A contínuación se importan las librerías necesarias para la ejecución de todo el cuaderno"
   ]
  },
  {
   "cell_type": "code",
   "execution_count": 1,
   "metadata": {},
   "outputs": [],
   "source": [
    "# Generales\n",
    "import subprocess, shutil\n",
    "import time\n",
    "import random\n",
    "\n",
    "# SUMO \n",
    "import traci\n",
    "import sumolib\n",
    "import randomTrips\n",
    "\n",
    "# Python GUI\n",
    "from tkinter import *\n",
    "from tkinter import messagebox, filedialog\n",
    "\n",
    "# Manipulacion de archivos .xml\n",
    "import xml.etree.ElementTree as ET\n",
    "\n",
    "# Visualización de datos\n",
    "import matplotlib.pyplot as plt"
   ]
  },
  {
   "cell_type": "markdown",
   "metadata": {},
   "source": [
    "## Definición"
   ]
  },
  {
   "cell_type": "markdown",
   "metadata": {},
   "source": [
    "#### Definición del proyecto\n",
    "\n",
    "<li> Nombre del proyecto </li>\n",
    "<li> Duración de la simulación, en minutos </li>\n",
    "<li> Número de vehículos en el escenario durante la simulación </li>\n",
    "\n",
    "<li> Tipo de escenario </li>\n",
    "<ul><li> Número de carriles, para la generación automática de escenarios  </li>\n",
    "    <li> Velocidad máxima de los vehículos, en kilómetros / hora </li>\n",
    "    <li> Velocidad máxima de las fases de los semáforos, en segundos </li>\n",
    "    <li> Mapa de <i>OpenStreetMap</i> </li> </ul>"
   ]
  },
  {
   "cell_type": "markdown",
   "metadata": {},
   "source": [
    "#### Definición del algoritmo genético\n",
    "\n",
    "<li> Tamaño de la población </li>\n",
    "<li> Número de iteraciones del algoritmo </li>\n",
    "<li> Selección de los individuos </li>\n",
    "<ul> <li> Equiprobable: todos los individuos con la misma probabilidad </li> \n",
    "     <li> Ponderada: la probabilidad de cada individuo es inversamente proporcional a la posición que ocupa, según su puntuación </li> </ul>\n",
    "<li> Porcentaje de la población que se cruzarán dos a dos </li>\n",
    "<ul> <li> Número de puntos de cruce </li> </ul>\n",
    "<li> Porcentaje de la población que mutará genes aleatoriamente </li>\n",
    "<ul> <li> Número de genes a mutar </li> </ul>\n",
    "<li> Porcentaje de la población cuyos genes se crearán aleatoriamente </li>"
   ]
  },
  {
   "cell_type": "markdown",
   "metadata": {},
   "source": [
    "## Interfaz gráfica\n",
    "\n",
    "Selección / Introducción de datos"
   ]
  },
  {
   "cell_type": "code",
   "execution_count": 2,
   "metadata": {},
   "outputs": [],
   "source": [
    "#  Interfaz grafica\n",
    "def cont(*args):\n",
    "    if not check_porcentajes():\n",
    "        return\n",
    "    if not check_calculos():\n",
    "        return\n",
    "    if not check_optimiza():\n",
    "        return\n",
    "    global nombre_proyecto, vehiculos, duracion, tipo_red, algoritmo\n",
    "    nombre_proyecto = nom_proyecto.get()\n",
    "    vehiculos = veh.get()\n",
    "    duracion = 60 * d.get()\n",
    "    tipo_red = t_red.get()\n",
    "    algoritmo = alg_ruta.get()\n",
    "    global calcula_lim_velocidad, calcula_fases_semaforos, optimiza_distancia, optimiza_tiempos, optimiza_limites_velocidad\n",
    "    calcula_lim_velocidad = calc_lim_v.get()\n",
    "    calcula_fases_semaforos = calc_fases.get()\n",
    "    optimiza_distancia = opt_dist.get()\n",
    "    optimiza_tiempos = opt_tiempo.get()\n",
    "    optimiza_limites_velocidad = opt_lim_v.get()\n",
    "    global velocidad_max, num_carriles, fase_max\n",
    "    velocidad_max = round(v_max.get() / 3.6, 2)\n",
    "    num_carriles = n_carriles.get()\n",
    "    fase_max = t_fases.get()\n",
    "    global calles_x, long_calles_x, calles_y, long_calles_y\n",
    "    calles_x = n_x.get()\n",
    "    long_calles_x = l_x.get()\n",
    "    calles_y = n_y.get()\n",
    "    long_calles_y = l_y.get()\n",
    "    global calles_radial, calles_circular, dist_calles_circular\n",
    "    calles_radial = n_r.get()\n",
    "    calles_circular = n_c.get()\n",
    "    dist_calles_circular = l_c.get()\n",
    "    global num_intersecciones, long_calles_min, long_calles_max\n",
    "    num_intersecciones = n_i.get()\n",
    "    long_calles_min = l_min.get()\n",
    "    long_calles_max = l_max.get()\n",
    "    global tam_poblacion, iteraciones, seleccion, prob_cruce, num_ptos_cruce, prob_mutacion, num_mutaciones, prob_nuevo\n",
    "    tam_poblacion = n_ind.get()\n",
    "    iteraciones = n_itr.get()\n",
    "    seleccion = sel.get()\n",
    "    prob_cruce = p_cruce.get()\n",
    "    num_ptos_cruce = n_cruce.get()\n",
    "    prob_mutacion = p_muta.get()\n",
    "    num_mutaciones = n_muta.get()\n",
    "    prob_nuevo = p_nueva.get()\n",
    "    global archivo_mapa\n",
    "    archivo_mapa = archivo_osm.get()\n",
    "    ventana.destroy()\n",
    "\n",
    "def sig(*args):\n",
    "    global ventana_1, ventana_2, ventana_3\n",
    "    if ventana_3:\n",
    "        cont()\n",
    "    if ventana_2:\n",
    "        datos_generales.grid_forget()\n",
    "        sel_escenario.grid_forget()\n",
    "        dt_alg_gen.grid(row=1, column=0, sticky=N, padx=5, pady=5)\n",
    "        volver.grid(row=14, column=0, sticky=SE, padx=5, pady=5)\n",
    "        continuar.config(text='Continuar ... ')\n",
    "        ventana_1 = False\n",
    "        ventana_2 = False\n",
    "        ventana_3 = True\n",
    "    if ventana_1:\n",
    "        datos_generales.grid_forget()\n",
    "        sel_escenario.grid(row=1, column=0, sticky=N, padx=5, pady=5)\n",
    "        dt_alg_gen.grid_forget()\n",
    "        volver.grid(row=14, column=0, sticky=SE, padx=5, pady=5)\n",
    "        ventana_1 = False\n",
    "        ventana_2 = True\n",
    "        ventana_3 = False\n",
    "\n",
    "def ant(*args):\n",
    "    global ventana_1, ventana_2, ventana_3\n",
    "    if ventana_2:\n",
    "        datos_generales.grid(row=1, column=0, sticky=N, padx=5, pady=5)\n",
    "        sel_escenario.grid_forget()\n",
    "        dt_alg_gen.grid_forget()\n",
    "        volver.grid_forget()\n",
    "        ventana_1 = True\n",
    "        ventana_2 = False\n",
    "        ventana_3 = False\n",
    "    if ventana_3:\n",
    "        datos_generales.grid_forget()\n",
    "        sel_escenario.grid(row=1, column=0, sticky=N, padx=5, pady=5)\n",
    "        dt_alg_gen.grid_forget()\n",
    "        volver.grid(row=14, column=0, sticky=SE, padx=5, pady=5)\n",
    "        continuar.config(text='Siguiente   >>')\n",
    "        ventana_1 = False\n",
    "        ventana_2 = True\n",
    "        ventana_3 = False\n",
    "\n",
    "def funcion_red(*args):\n",
    "    global tipo_red\n",
    "    if t_red.get() == 'Manhattan':\n",
    "        tipo_red = 'Manhattan'\n",
    "        dt_escenario_012.grid(row=5, column=0, sticky=N, padx=5, pady=5)\n",
    "        dt_escenario_0.grid(row=7, column=0, sticky=N, padx=5, pady=5)\n",
    "        dt_escenario_1.grid_forget()\n",
    "        dt_escenario_2.grid_forget()\n",
    "        dt_escenario_3.grid_forget()\n",
    "    elif t_red.get() == 'Spider':\n",
    "        tipo_red = 'Spider'\n",
    "        dt_escenario_012.grid(row=5, column=0, sticky=N, padx=5, pady=5)\n",
    "        dt_escenario_0.grid_forget()\n",
    "        dt_escenario_1.grid(row=7, column=0, sticky=N, padx=5, pady=5)\n",
    "        dt_escenario_2.grid_forget()\n",
    "        dt_escenario_3.grid_forget()\n",
    "    elif t_red.get() == 'RandomNet':\n",
    "        tipo_red = 'RandomNet'\n",
    "        dt_escenario_012.grid(row=5, column=0, sticky=N, padx=5, pady=5)\n",
    "        dt_escenario_0.grid_forget()\n",
    "        dt_escenario_1.grid_forget()\n",
    "        dt_escenario_2.grid(row=7, column=0, sticky=N, padx=5, pady=5)\n",
    "        dt_escenario_3.grid_forget()\n",
    "    elif t_red.get() == 'Real':\n",
    "        tipo_red = 'Real'\n",
    "        dt_escenario_012.grid_forget()\n",
    "        dt_escenario_0.grid_forget()\n",
    "        dt_escenario_1.grid_forget()\n",
    "        dt_escenario_2.grid_forget()\n",
    "        dt_escenario_3.grid(row=5, column=0, sticky=N, padx=5, pady=5)\n",
    "    else:\n",
    "        messagebox.showinfo(title='Error',\n",
    "            message='Se ha producido un error en la selección')\n",
    "    return True\n",
    "\n",
    "def check_duracion(*args):\n",
    "    if d.get() > 60:\n",
    "        messagebox.showinfo(title='Atención',\n",
    "            message='Valores elevados pueden ralentizar la ejecución')\n",
    "    return True\n",
    "\n",
    "def check_vehiculos(*args):\n",
    "    if veh.get() > 2500:\n",
    "        messagebox.showinfo(title='Atención',\n",
    "            message='Valores elevados pueden ralentizar la ejecución')\n",
    "    return True\n",
    "\n",
    "def check_velocidad(*args):\n",
    "    if int(v_max.get()) % 10 != 0:\n",
    "        redondeo_v =round(int(v_max.get()), -1)\n",
    "        entrada_vel.delete(0, END)\n",
    "        entrada_vel.insert(0, redondeo_v)\n",
    "        messagebox.showinfo(title='Atención',\n",
    "            message='Se ha redonceado la velocidad a múltiplo de 10 km/h')\n",
    "    return True\n",
    "\n",
    "def check_calculos():\n",
    "    if calc_lim_v.get(): \n",
    "        entrada_vel.config(state='normal')\n",
    "        entrada_sel_optim_3.config(state='normal')\n",
    "    else: entrada_vel.config(state='disabled')\n",
    "    if calc_fases.get(): entrada_d_fases.config(state='normal')\n",
    "    else: entrada_d_fases.config(state='disabled')\n",
    "    if not calc_lim_v.get():\n",
    "        entrada_sel_optim_3.config(state='disabled')\n",
    "        if opt_lim_v.get():\n",
    "            opt_lim_v.set(0)\n",
    "            messagebox.showinfo(title='Atención',\n",
    "                message='No se pueden optimizar los límites de velocidad\\nsin incluirlos en los cálculos.')\n",
    "    if (calc_lim_v.get() + calc_fases.get()) == 0:\n",
    "        messagebox.showinfo(title='Atención',\n",
    "            message='\\nSe debe elegir al menos un elemento a emplear\\nen los cálculos.\\n\\nSe debe seleccionar al menos una opción entre:\\n\\t> Límites de velocidad\\n\\t> Fases semafóricas')\n",
    "        return False\n",
    "    return True\n",
    "\n",
    "def check_optimiza():  \n",
    "    if opt_dist.get() + opt_tiempo.get() + opt_lim_v.get() == 0:\n",
    "        messagebox.showinfo(title='Atención',\n",
    "            message='\\nSe debe elegir al menos un elemento a optimizar.\\n\\nSe debe seleccionar al menos una opción entre:\\n\\t> MAX: Distancia recorrida\\n\\t> MIN: Tiempos de viaje\\n\\t> MIN: Límite de velocidad')\n",
    "        return False\n",
    "    return True\n",
    "\n",
    "def check_porcentajes(*args):\n",
    "    if p_cruce.get() + p_muta.get() + p_nueva.get() > 100:\n",
    "        messagebox.showinfo(title='Atención',\n",
    "            message='\\nRevise los porcentajes de selección de individuos\\nantes de continuar.\\nEl total excede el 100 %')\n",
    "        return False\n",
    "    if p_cruce.get() + p_muta.get() + p_nueva.get() < 100:\n",
    "        messagebox.showinfo(title='Atención',\n",
    "            message='\\nRevise los porcentajes de selección de individuos\\nantes de continuar.\\nEl total no alcanza el 100 %')\n",
    "        return False\n",
    "    return True\n",
    "\n",
    "def suma_porcentajes(*args):\n",
    "    suma = p_cruce.get() + p_muta.get() + p_nueva.get()\n",
    "    tot_porcentaje.config(text=str(suma))\n",
    "    return True\n",
    "\n",
    "def explorar_archivos():\n",
    "    osm_map = filedialog.askopenfilename(initialdir = './data/',\n",
    "                                            title = 'Selecione archivo de mapa:',\n",
    "                                            filetypes = ((\"Archivo de OpenStreetMap\", \"*.osm*\"), (\"Todos los archivos\", \"*.*\")),\n",
    "                                            initialfile=('map.osm')\n",
    "                                        )\n",
    "    \n",
    "    etiq_archivo_osm.config(text=str(osm_map))\n",
    "    return archivo_osm.set(osm_map)"
   ]
  },
  {
   "cell_type": "code",
   "execution_count": 3,
   "metadata": {},
   "outputs": [],
   "source": [
    "# GUI\n",
    "ventana = Tk()\n",
    "\n",
    "ventana.bind('<Return>', cont)\n",
    "\n",
    "ventana_1 = True\n",
    "ventana_2 = False\n",
    "ventana_3 = False\n",
    "\n",
    "nom_proyecto = StringVar(value='Simulacion')\n",
    "veh = IntVar(value=250)\n",
    "n_carriles = IntVar(value=2)\n",
    "d = IntVar(value=10)\n",
    "alg_ruta = StringVar(value='astar')\n",
    "calc_lim_v = IntVar(value=1)\n",
    "calc_fases = IntVar(value=1)\n",
    "opt_dist = IntVar(value=1)\n",
    "opt_tiempo = IntVar(value=1)\n",
    "opt_lim_v = IntVar(value=1)\n",
    "\n",
    "v_max = IntVar(value=50)\n",
    "n_carriles = IntVar(value=2)\n",
    "t_fases = IntVar(value=60)\n",
    "t_red = StringVar(value='Manhattan')\n",
    "\n",
    "n_x = IntVar(value=3)\n",
    "l_x = DoubleVar(value=350.0)\n",
    "n_y = IntVar(value=3)\n",
    "l_y = DoubleVar(value=200.0)\n",
    "\n",
    "n_r = IntVar(value=3)\n",
    "n_c = IntVar(value=3)\n",
    "l_c = DoubleVar(value=275.0)\n",
    "\n",
    "n_i = IntVar(value=175)\n",
    "l_min = DoubleVar(value=350.0)\n",
    "l_max = DoubleVar(value=500.0)\n",
    "\n",
    "n_ind = IntVar(value=200)\n",
    "n_itr = IntVar(value=1250)\n",
    "\n",
    "p_cruce = DoubleVar(value=60.0)\n",
    "n_cruce = IntVar(value=2)\n",
    "p_muta = DoubleVar(value=30.0)\n",
    "n_muta = IntVar(value=10)\n",
    "p_nueva = DoubleVar(value=10.0)\n",
    "sel = StringVar(value='ponderada')\n",
    "\n",
    "archivo_osm = StringVar(value='./data/map.osm')\n",
    "\n",
    "ventana.title('Diseño y aplicación de técnicas metaheurísticas para el control de tráfico')\n",
    "ventana.attributes('-topmost', True)\n",
    "ventana.config(bd=15)\n",
    "\n",
    "# Datos generales\n",
    "datos_generales = Frame(ventana, highlightbackground=\"black\", highlightthickness=0.5)\n",
    "datos_generales.grid(row=1, column=0, sticky=N, padx=5, pady=5)\n",
    "\n",
    "etiq_datos_generales = Label(datos_generales, text='DATOS GENERALES DE LA SIMULACIÓN')\n",
    "etiq_datos_generales.config(font=('Arial',12,'bold'))\n",
    "etiq_datos_generales.grid(row=0, column=0, columnspan=4, sticky=E+W, padx=5, pady=5)\n",
    "\n",
    "datos = Frame(datos_generales)\n",
    "datos.grid(row=1, column=0, sticky=E+W, padx=5, pady=5) \n",
    "\n",
    "etiq_titulo = Label(datos, text='Título para el proyecto: ')\n",
    "etiq_titulo.grid(row=0, column=0, columnspan=2, sticky=E, padx=5, pady=5)\n",
    "entrada_titulo = Entry(datos, textvariable=nom_proyecto)\n",
    "entrada_titulo.grid(row=0, column=2, columnspan=2, sticky=W, padx=5, pady=5)\n",
    "\n",
    "etiq_dur = Label(datos, text='Tiempo a simular (en minutos): ')\n",
    "etiq_dur.grid(row=1, column=0, columnspan=2, sticky=E, padx=5, pady=5)\n",
    "entrada_dur = Entry(datos, textvariable=d)\n",
    "entrada_dur.config(validate='focusout', validatecommand=check_duracion)\n",
    "entrada_dur.grid(row=1, column=2, columnspan=2, sticky=W, padx=5, pady=5)\n",
    "\n",
    "etiq_n_veh = Label(datos, text='Nº de vehículos en el escenario: ')\n",
    "etiq_n_veh.grid(row=2, column=0, columnspan=2, sticky=E, padx=5, pady=5)\n",
    "entrada_n_veh = Entry(datos, textvariable=veh)\n",
    "entrada_n_veh.config(validate='focusout', validatecommand=check_vehiculos)\n",
    "entrada_n_veh.grid(row=2, column=2, columnspan=2, sticky=W, padx=5, pady=5)\n",
    "\n",
    "etiq_sel_ind = Label(datos, text='Algoritmo para el cálculo de rutas: ')\n",
    "etiq_sel_ind.grid(row=3, column=0, columnspan=2, sticky=E, padx=5, pady=5)\n",
    "entrada_sel_ind_1 = Radiobutton(datos, text='Dijkstra', variable=alg_ruta, value='dijkstra')\n",
    "entrada_sel_ind_1.grid(row=3, column=2, sticky=W, padx=5, pady=5)\n",
    "entrada_sel_ind_2 = Radiobutton(datos, text='A*   (A estrella)', variable=alg_ruta, value='astar')\n",
    "entrada_sel_ind_2.grid(row=3, column=3, sticky=W, padx=5, pady=5)\n",
    "\n",
    "calculos = Frame(datos_generales, highlightbackground=\"black\", highlightthickness=0.5)\n",
    "calculos.grid(row=2, column=0, columnspan=2, sticky=N, padx=5, pady=5) \n",
    "\n",
    "etiq_sel_calc = Label(calculos, text='Incluir en los cálculos: ')\n",
    "etiq_sel_calc.grid(row=0, column=0, sticky=E, padx=5, pady=5)\n",
    "entrada_sel_calc_1 = Checkbutton(calculos, text='Límites de velocidad', variable=calc_lim_v, onvalue=1, offvalue=0, command=check_calculos)\n",
    "entrada_sel_calc_1.grid(row=0, column=1, sticky=W, padx=5, pady=5)\n",
    "entrada_sel_calc_2 = Checkbutton(calculos, text='Fases semafóricas', variable=calc_fases, onvalue=1, offvalue=0, command=check_calculos)\n",
    "entrada_sel_calc_2.grid(row=1, column=1, sticky=W, padx=5, pady=5)\n",
    "\n",
    "optimizaciones = Frame(datos_generales, highlightbackground=\"black\", highlightthickness=0.5)\n",
    "optimizaciones.grid(row=3, column=0, columnspan=2, sticky=N, padx=5, pady=5) \n",
    "\n",
    "etiq_sel_optim = Label(optimizaciones, text='Optimización: ')\n",
    "etiq_sel_optim.grid(row=0, column=0, sticky=E, padx=5, pady=5)\n",
    "entrada_sel_optim_1 = Checkbutton(optimizaciones, text='MAX: Distancia recorrida', variable=opt_dist, onvalue=1, offvalue=0, command=check_optimiza)\n",
    "entrada_sel_optim_1.grid(row=0, column=1, sticky=W, padx=5, pady=5)\n",
    "entrada_sel_optim_2 = Checkbutton(optimizaciones, text='MIN: Tiempos de viaje', variable=opt_tiempo, onvalue=1, offvalue=0, command=check_optimiza)\n",
    "entrada_sel_optim_2.grid(row=1, column=1, sticky=W, padx=5, pady=5)\n",
    "entrada_sel_optim_3 = Checkbutton(optimizaciones, text='MIN: Límite de velocidad', variable=opt_lim_v, onvalue=1, offvalue=0, command=check_optimiza)\n",
    "entrada_sel_optim_3.grid(row=2, column=1, sticky=W, padx=5, pady=5)\n",
    "\n",
    "sel_escenario = Frame(ventana, highlightbackground=\"black\", highlightthickness=0.5)\n",
    "\n",
    "t_escenario = Frame(sel_escenario, highlightbackground=\"black\", highlightthickness=0.5)\n",
    "t_escenario.grid(row=3, column=0, sticky=N, padx=5, pady=5)\n",
    "\n",
    "etiq_escenario = Label(t_escenario, text='TIPO DE ESCENARIO')\n",
    "etiq_escenario.config(font=('Arial',12,'bold'))\n",
    "etiq_escenario.grid(row=0, column=0, columnspan=4, sticky=E+W, padx=5, pady=5)\n",
    "\n",
    "etiq_sel_red = Label(t_escenario, text='Seleccione un tipo de red: ')\n",
    "etiq_sel_red.grid(row=1, column=0, columnspan=4, sticky=E+W, padx=5, pady=5)\n",
    "\n",
    "entrada_sel_red_1 = Radiobutton(t_escenario, text='Red mallada, tipo Manhattan', variable=t_red, value='Manhattan', command=funcion_red)\n",
    "entrada_sel_red_1.grid(row=2, column=0, columnspan=2, sticky=E, padx=5, pady=5)\n",
    "entrada_sel_red_2 = Radiobutton(t_escenario, text='Red radial, tipo tela de araña', variable=t_red, value='Spider', command=funcion_red)\n",
    "entrada_sel_red_2.grid(row=3, column=0, columnspan=2, sticky=E, padx=5, pady=5)\n",
    "entrada_sel_red_3 = Radiobutton(t_escenario, text='Red generada aleatoriamente', variable=t_red, value='RandomNet', command=funcion_red)\n",
    "entrada_sel_red_3.grid(row=2, column=2, columnspan=2, sticky=W, padx=5, pady=5)\n",
    "entrada_sel_red_4 = Radiobutton(t_escenario, text='Importar desde mapa de OpenStreetMaps', variable=t_red, value='Real', command=funcion_red)\n",
    "entrada_sel_red_4.grid(row=3, column=2, columnspan=2, sticky=W, padx=5, pady=5)\n",
    "\n",
    "dt_escenario_012 = Frame(sel_escenario, highlightbackground=\"black\", highlightthickness=0.5)\n",
    "dt_escenario_012.grid(row=5, column=0, sticky=N, padx=5, pady=5)\n",
    "\n",
    "dt_escenario_0 = Frame(sel_escenario, highlightbackground=\"black\", highlightthickness=0.5)\n",
    "dt_escenario_0.grid(row=7, column=0, sticky=N, padx=5, pady=5)\n",
    "\n",
    "dt_escenario_1 = Frame(sel_escenario, highlightbackground=\"black\", highlightthickness=0.5)\n",
    "\n",
    "dt_escenario_2 = Frame(sel_escenario, highlightbackground=\"black\", highlightthickness=0.5)\n",
    "\n",
    "dt_escenario_3 = Frame(sel_escenario, highlightbackground=\"black\", highlightthickness=0.5)\n",
    "\n",
    "# Redes generadas automaticamnte\n",
    "etiq_dt_escenario = Label(dt_escenario_012, text='DATOS DEL ESCENARIO')\n",
    "etiq_dt_escenario.config(font=('Arial',12,'bold'))\n",
    "etiq_dt_escenario.grid(row=0, column=0, columnspan=4, sticky=E+W, padx=5, pady=5)\n",
    "\n",
    "etiq_vel = Label(dt_escenario_012, text='Introduzca la velocidad máxima (en múltiplos de 10 km/h): ')\n",
    "etiq_vel.grid(row=1, column=0, columnspan=2, sticky=E+W, padx=5, pady=5)\n",
    "entrada_vel = Entry(dt_escenario_012, textvariable=v_max)\n",
    "entrada_vel.config(validate='focusout', validatecommand=check_velocidad)\n",
    "entrada_vel.grid(row=1, column=2, sticky=E+W, padx=5, pady=5)\n",
    "etiq_kmh = Label(dt_escenario_012, text=' km/h')\n",
    "etiq_kmh.grid(row=1, column=3, sticky=E+W, padx=5, pady=5)\n",
    "\n",
    "etiq_n_carriles = Label(dt_escenario_012, text='Nº de carriles por cada sentido de circulación: ')\n",
    "etiq_n_carriles.grid(row=2, column=1, sticky=E+W, padx=5, pady=5)\n",
    "entrada_n_carriles = Entry(dt_escenario_012, textvariable=n_carriles)\n",
    "entrada_n_carriles.grid(row=2, column=2, sticky=E+W, padx=5, pady=5)\n",
    "etiq_carriles = Label(dt_escenario_012, text=' carril/es')\n",
    "etiq_carriles.grid(row=2, column=3, sticky=E+W, padx=5, pady=5)\n",
    "\n",
    "etiq_d_fases = Label(dt_escenario_012, text='Duración máxima de las fases del semáforo: ')\n",
    "etiq_d_fases.grid(row=3, column=1, sticky=E+W, padx=5, pady=5)\n",
    "entrada_d_fases = Entry(dt_escenario_012, textvariable=t_fases)\n",
    "entrada_d_fases.grid(row=3, column=2, sticky=E+W, padx=5, pady=5)\n",
    "etiq_fases = Label(dt_escenario_012, text=' segundos')\n",
    "etiq_fases.grid(row=3, column=3, sticky=E+W, padx=5, pady=5)\n",
    "\n",
    "# Red mallada\n",
    "etiq_dt_escenario = Label(dt_escenario_0, text='DATOS DE LA RED MALLADA')\n",
    "etiq_dt_escenario.config(font=('Arial',12,'bold'))\n",
    "etiq_dt_escenario.grid(row=0, column=0, columnspan=4, sticky=E+W, padx=5, pady=5)\n",
    "\n",
    "etiq_n_calles_x = Label(dt_escenario_0, text='Nº de calles en horizontal: ')\n",
    "etiq_n_calles_x.grid(row=1, column=0, sticky=E+W, padx=5, pady=5)\n",
    "entrada_etiq_n_calles_x = Entry(dt_escenario_0, textvariable=n_x)\n",
    "entrada_etiq_n_calles_x.grid(row=1, column=1, sticky=E+W, padx=5, pady=5)\n",
    "\n",
    "etiq_lon_calles_x = Label(dt_escenario_0, text='Distancia entre calles en horizontal: ')\n",
    "etiq_lon_calles_x.grid(row=1, column=2, sticky=E+W, padx=5, pady=5)\n",
    "entrada_etiq_lon_calles_x = Entry(dt_escenario_0, textvariable=l_x)\n",
    "entrada_etiq_lon_calles_x.grid(row=1, column=3, sticky=E+W, padx=5, pady=5)\n",
    "\n",
    "etiq_n_calles_y = Label(dt_escenario_0, text='Nº de calles en vertical: ')\n",
    "etiq_n_calles_y.grid(row=2, column=0, sticky=E+W, padx=5, pady=5)\n",
    "entrada_etiq_n_calles_y = Entry(dt_escenario_0, textvariable=n_y)\n",
    "entrada_etiq_n_calles_y.grid(row=2, column=1, sticky=E+W, padx=5, pady=5)\n",
    "\n",
    "etiq_lon_calles_y= Label(dt_escenario_0, text='Distancia entre calles en vertical: ')\n",
    "etiq_lon_calles_y.grid(row=2, column=2, sticky=E+W, padx=5, pady=5)\n",
    "entrada_etiq_lon_calles_y = Entry(dt_escenario_0, textvariable=l_y)\n",
    "entrada_etiq_lon_calles_y.grid(row=2, column=3, sticky=E+W, padx=5, pady=5)\n",
    "\n",
    "# Red tela de araña\n",
    "etiq_dt_escenario = Label(dt_escenario_1, text='DATOS DE LA RED RADIAL')\n",
    "etiq_dt_escenario.config(font=('Arial',12,'bold'))\n",
    "etiq_dt_escenario.grid(row=0, column=0, columnspan=4, sticky=E+W, padx=5, pady=5)\n",
    "\n",
    "etiq_n_calles_r = Label(dt_escenario_1, text='Nº de calles radiales: ')\n",
    "etiq_n_calles_r.grid(row=1, column=0, sticky=E+W, padx=5, pady=5)\n",
    "entrada_etiq_n_calles_r = Entry(dt_escenario_1, textvariable=n_r)\n",
    "entrada_etiq_n_calles_r.grid(row=1, column=1, sticky=E+W, padx=5, pady=5)\n",
    "\n",
    "etiq_n_calles_c = Label(dt_escenario_1, text='Nº de calles concéntricas: ')\n",
    "etiq_n_calles_c.grid(row=2, column=0, sticky=E+W, padx=5, pady=5)\n",
    "entrada_etiq_n_calles_c = Entry(dt_escenario_1, textvariable=n_c)\n",
    "entrada_etiq_n_calles_c.grid(row=2, column=1, sticky=E+W, padx=5, pady=5)\n",
    "\n",
    "etiq_lon_calles_c= Label(dt_escenario_1, text='Distancia entre calles concéntricas: ')\n",
    "etiq_lon_calles_c.grid(row=2, column=2, sticky=E+W, padx=5, pady=5)\n",
    "entrada_etiq_lon_calles_c = Entry(dt_escenario_1, textvariable=l_c)\n",
    "entrada_etiq_lon_calles_c.grid(row=2, column=3, sticky=E+W, padx=5, pady=5)\n",
    "\n",
    "# Red aleatoria\n",
    "etiq_dt_escenario = Label(dt_escenario_2, text='DATOS DE LA RED ALEATORIA')\n",
    "etiq_dt_escenario.config(font=('Arial',12,'bold'))\n",
    "etiq_dt_escenario.grid(row=0, column=0, columnspan=4, sticky=E+W, padx=5, pady=5)\n",
    "\n",
    "etiq_n_intersc = Label(dt_escenario_2, text='Nº de intersecciones: ')\n",
    "etiq_n_intersc.grid(row=1, column=0, sticky=E+W, padx=5, pady=5)\n",
    "entrada_n_intersc = Entry(dt_escenario_2, textvariable=n_i)\n",
    "entrada_n_intersc.grid(row=1, column=1, sticky=E+W, padx=5, pady=5)\n",
    "\n",
    "etiq_lon_calles_x = Label(dt_escenario_2, text='Distancia mínima entre intersecciones: ')\n",
    "etiq_lon_calles_x.grid(row=1, column=2, sticky=E+W, padx=5, pady=5)\n",
    "entrada_etiq_lon_calles_x = Entry(dt_escenario_2, textvariable=l_min)\n",
    "entrada_etiq_lon_calles_x.grid(row=1, column=3, sticky=E+W, padx=5, pady=5)\n",
    "\n",
    "etiq_lon_calles_y= Label(dt_escenario_2, text='Distancia máxima entre intersecciones: ')\n",
    "etiq_lon_calles_y.grid(row=2, column=2, sticky=E+W, padx=5, pady=5)\n",
    "entrada_etiq_lon_calles_y = Entry(dt_escenario_2, textvariable=l_max)\n",
    "entrada_etiq_lon_calles_y.grid(row=2, column=3, sticky=E+W, padx=5, pady=5)\n",
    "\n",
    "# Archivo de OpenStreetMap\n",
    "etiq_dt_escenario = Label(dt_escenario_3, text='OPEN STREET MAP')\n",
    "etiq_dt_escenario.config(font=('Arial',12,'bold'))\n",
    "etiq_dt_escenario.grid(row=0, column=0, columnspan=4, sticky=E+W, padx=5, pady=5)\n",
    "\n",
    "mapa = Button(dt_escenario_3, text='Seleccionar archivo de mapa de OpenStreetMap...', command=explorar_archivos)\n",
    "mapa.grid(row=1, column=0, columnspan=4, sticky=E+W, padx=5, pady=5)\n",
    "\n",
    "etiq_osm= Label(dt_escenario_3, text='Archivo:       ')\n",
    "etiq_osm.grid(row=2, column=0, sticky=E, padx=5, pady=5)\n",
    "\n",
    "etiq_archivo_osm = Label(dt_escenario_3, text=archivo_osm.get())\n",
    "etiq_archivo_osm.grid(row=2, column=1, columnspan=3, sticky=W, padx=5, pady=5)\n",
    "\n",
    "# Algoritmo genetico\n",
    "dt_alg_gen = Frame(ventana, highlightbackground=\"black\", highlightthickness=0.5)\n",
    "\n",
    "etiq_dt_escenario = Label(dt_alg_gen, text='DATOS DEL ALGORITMO GENÉTICO')\n",
    "etiq_dt_escenario.config(font=('Arial',12,'bold'))\n",
    "etiq_dt_escenario.grid(row=0, column=0, columnspan=4, sticky=E+W, padx=5, pady=5)\n",
    "\n",
    "etiq_n_ind = Label(dt_alg_gen, text='Introduzca el tamaño de la población: ')\n",
    "etiq_n_ind.grid(row=1, column=0, columnspan=2, sticky=E, padx=5, pady=5)\n",
    "entrada_n_ind = Entry(dt_alg_gen, textvariable=n_ind)\n",
    "entrada_n_ind.grid(row=1, column=2, columnspan=2, sticky=W, padx=5, pady=5)\n",
    "\n",
    "etiq_n_itr = Label(dt_alg_gen, text='Introduzca el número de iteraciones: ')\n",
    "etiq_n_itr.grid(row=2, column=0, columnspan=2, sticky=E, padx=5, pady=5)\n",
    "entrada_n_itr = Entry(dt_alg_gen, textvariable=n_itr)\n",
    "entrada_n_itr.grid(row=2, column=2, columnspan=2, sticky=W, padx=5, pady=5)\n",
    "\n",
    "etiq_n_itr_info = Label(dt_alg_gen, text=f'Se efectuarán, al menos, un número de iteraciones igual a\\ndos veces el valor del tamaño de la población desde la obtención del mejor individuo')\n",
    "etiq_n_itr_info.grid(row=3, column=0, columnspan=4, sticky=E+W, padx=5, pady=5)\n",
    "\n",
    "etiq_sel_ind = Label(dt_alg_gen, text='Indique el modo de selección de los individuos: ')\n",
    "etiq_sel_ind.grid(row=4, column=0, columnspan=2, sticky=E, padx=5, pady=5)\n",
    "entrada_sel_ind_1 = Radiobutton(dt_alg_gen, text='Equiprobable', variable=sel, value='equiprobable')\n",
    "entrada_sel_ind_1.grid(row=4, column=2, sticky=W, padx=5, pady=5)\n",
    "entrada_sel_ind_2 = Radiobutton(dt_alg_gen, text='Ponderada', variable=sel, value='ponderada')\n",
    "entrada_sel_ind_2.grid(row=4, column=3, sticky=W, padx=5, pady=5)\n",
    "\n",
    "etiq_pob_info = Label(dt_alg_gen, text='En cada iteración:')\n",
    "etiq_pob_info.grid(row=6, column=0, columnspan=4, sticky=E+W, padx=5, pady=5)\n",
    "\n",
    "etiq_pob_cruce = Label(dt_alg_gen, text='% de probabilidad de creación individuos a través de CRUCE: ')\n",
    "etiq_pob_cruce.grid(row=8, column=0, sticky=E, padx=5, pady=5)\n",
    "entrada_etiq_pob_cruce = Entry(dt_alg_gen, textvariable=p_cruce)\n",
    "entrada_etiq_pob_cruce.config(validate='all', validatecommand=suma_porcentajes)\n",
    "entrada_etiq_pob_cruce.grid(row=8, column=1, sticky=W, padx=5, pady=5)\n",
    "\n",
    "etiq_n_cruce = Label(dt_alg_gen, text='Puntos de cruce: ')\n",
    "etiq_n_cruce.grid(row=8, column=2, sticky=E, padx=5, pady=5)\n",
    "entrada_etiq_n_cruce = Entry(dt_alg_gen, textvariable=n_cruce)\n",
    "entrada_etiq_n_cruce.grid(row=8, column=3, sticky=W, padx=5, pady=5)\n",
    "\n",
    "etiq_pob_muta = Label(dt_alg_gen, text='% de probabilidad de creación individuos a través de MUTACIÓN: ')\n",
    "etiq_pob_muta.grid(row=9, column=0, sticky=E, padx=5, pady=5)\n",
    "entrada_etiq_pob_muta = Entry(dt_alg_gen, textvariable=p_muta)\n",
    "entrada_etiq_pob_muta.config(validate='all', validatecommand=suma_porcentajes)\n",
    "entrada_etiq_pob_muta.grid(row=9, column=1, sticky=W, padx=5, pady=5)\n",
    "\n",
    "etiq_n_muta = Label(dt_alg_gen, text='Nº de genes a mutar: ')\n",
    "etiq_n_muta.grid(row=9, column=2, sticky=E, padx=5, pady=5)\n",
    "entrada_etiq_n_muta = Entry(dt_alg_gen, textvariable=n_muta)\n",
    "entrada_etiq_n_muta.grid(row=9, column=3, sticky=W, padx=5, pady=5)\n",
    "\n",
    "etiq_pob_nueva = Label(dt_alg_gen, text='% de probabilidad de creación de un NUEVO individuo de forma aleatoria: ')\n",
    "etiq_pob_nueva.grid(row=10, column=0, sticky=E, padx=5, pady=5)\n",
    "entrada_etiq_pob_nueva = Entry(dt_alg_gen, textvariable=p_nueva)\n",
    "entrada_etiq_pob_nueva.config(validate='all', validatecommand=suma_porcentajes)\n",
    "entrada_etiq_pob_nueva.grid(row=10, column=1, sticky=W, padx=5, pady=5)\n",
    "\n",
    "etiq_tot_porcentaje = Label(dt_alg_gen, text='Suma total (%): ')\n",
    "etiq_tot_porcentaje.grid(row=11, column=0, sticky=E, padx=5, pady=5)\n",
    "tot_porcentaje = Label(dt_alg_gen, text='100.0')\n",
    "tot_porcentaje.grid(row=11, column=1, sticky=W, padx=5, pady=5)\n",
    "\n",
    "# Continuar la ejecucion\n",
    "volver = Button(ventana, text=' <<   Anterior', command=ant, font=('Arial',12,'bold'))\n",
    "\n",
    "continuar = Button(ventana, text='Siguiente   >>', command=sig, font=('Arial',12,'bold'))\n",
    "continuar.grid(row=14, column=1, sticky=SE, padx=5, pady=5)\n",
    "\n",
    "# Variables si se cierra la ventana con [X]\n",
    "nombre_proyecto = nom_proyecto.get()\n",
    "vehiculos = veh.get()\n",
    "duracion = 60 * d.get()\n",
    "velocidad_max = round(3.6 * v_max.get(), 2)\n",
    "algoritmo = alg_ruta.get()\n",
    "calcula_lim_velocidad = calc_lim_v.get()\n",
    "calcula_fases_semaforos = calc_fases.get()\n",
    "optimiza_distancia = opt_dist.get()\n",
    "optimiza_tiempos = opt_tiempo.get()\n",
    "tipo_red = t_red.get()\n",
    "num_carriles = n_carriles.get()\n",
    "fase_max = t_fases.get()\n",
    "calles_x = n_x.get()\n",
    "long_calles_x = l_x.get()\n",
    "calles_y = n_y.get()\n",
    "long_calles_y = l_y.get()\n",
    "calles_radial = n_r.get()\n",
    "calles_circular = n_c.get()\n",
    "dist_calles_circular = l_c.get()\n",
    "num_intersecciones = n_i.get()\n",
    "long_calles_min = l_min.get()\n",
    "long_calles_max = l_max.get()\n",
    "tam_poblacion = n_ind.get()\n",
    "iteraciones = n_itr.get()\n",
    "seleccion = sel.get()\n",
    "prob_cruce = p_cruce.get()\n",
    "num_ptos_cruce = n_cruce.get()\n",
    "prob_mutacion = p_muta.get()\n",
    "num_mutaciones = n_muta.get()\n",
    "prob_nuevo = p_nueva.get()\n",
    "archivo_mapa = archivo_osm.get()\n",
    "\n",
    "ventana.mainloop()"
   ]
  },
  {
   "cell_type": "markdown",
   "metadata": {},
   "source": [
    "## Funciones para el algoritmo genético"
   ]
  },
  {
   "cell_type": "markdown",
   "metadata": {},
   "source": [
    "#### Función de cruce\n",
    "\n",
    "Dadas 2 listas y un número <b><i>n</i></b> de puntos de corte, se realizará un cruce entre ambas listas\n",
    "\n",
    "<img src=\"./img/cruce.png\"> "
   ]
  },
  {
   "cell_type": "code",
   "execution_count": 4,
   "metadata": {},
   "outputs": [],
   "source": [
    "def cruce(lista1, lista2, n):\n",
    "    hijo1 = []\n",
    "    hijo2 = []\n",
    "    \n",
    "    pos_cruces = [0, len(lista1)] + [random.randint(1, len(lista1) - 1) for x in range(n)]\n",
    "    pos_cruces.sort()\n",
    "\n",
    "    for i in range(1, len(pos_cruces)):\n",
    "        if i % 2:\n",
    "            hijo1.extend(lista1[pos_cruces[i - 1]:pos_cruces[i]])\n",
    "            hijo2.extend(lista2[pos_cruces[i - 1]:pos_cruces[i]])\n",
    "        else:\n",
    "            hijo1.extend(lista2[pos_cruces[i - 1]:pos_cruces[i]])\n",
    "            hijo2.extend(lista1[pos_cruces[i - 1]:pos_cruces[i]])\n",
    "    \n",
    "    return [hijo1, hijo2]"
   ]
  },
  {
   "cell_type": "markdown",
   "metadata": {},
   "source": [
    "#### Función de mutación\n",
    "\n",
    "Dada una lista y un número <b><i>n</i></b> de mutaciones, se realizarán este número de cambios entre un valor mínimo y máximo (ambos incluidos).\n",
    "\n",
    "<img src=\"./img/mutacion.png\">\n",
    "\n",
    "Los genes que pueden mutar en cada individuo se limitan a un máximo del 25%."
   ]
  },
  {
   "cell_type": "code",
   "execution_count": 5,
   "metadata": {},
   "outputs": [],
   "source": [
    "def mutacion(lista, minimo, maximo, multiplo, n):\n",
    "    hijo = lista\n",
    "    n = min(n, round(0.25 * len(lista)))\n",
    "    \n",
    "    pos_cruces = [random.randint(1, len(lista) - 1) for x in range(n)]\n",
    "\n",
    "    for i in pos_cruces: \n",
    "        hijo[i] = round(minimo + multiplo * random.randint(0, round((maximo - minimo) / multiplo)), 2)\n",
    "    \n",
    "    return hijo"
   ]
  },
  {
   "cell_type": "markdown",
   "metadata": {},
   "source": [
    "#### Función fitness\n",
    "\n",
    "Se valorará en cada solución: \n",
    "<li> <b>MAXIMIZAR</b> la distancia media de los trayectos respecto de la distancia media en la solución base </li>\n",
    "\n",
    "$$ D = \\frac{d_{media_{SOLUCIÓN}}} {d_{media_{BASE}}} $$ \n",
    "\n",
    "Será mayor cuanto mayor sea la distancia media recorrida en la solución.\n",
    "\n",
    "<li> <b>MINIMIZAR</b> los tiempos medios efectivos de viaje respecto de estos mismos tiempos de la solución base, y los tiempos perdidos </li>\n",
    "\n",
    "$$  T = 0.5 * \\frac {t_{efectivo_{BASE}}} {t_{efectivo_{SOLUCIÓN}}} + 0.5 * \\frac {t_{perdido_{BASE}}} {t_{perdido_{SOLUCIÓN}}} $$\n",
    "\n",
    "en donde los tiempos medios efectivos serán igual a la duración media de los trayectos menos los tiempos perdidos:\n",
    "\n",
    "$$ t_{efectivo} = t_{total} - t_{perdido} $$\n",
    "\n",
    "Será mayor cuanto menores sean los tiempos efectivos de viaje y los tiempos perdidos en la solución.\n",
    "\n",
    "<li> <b>MINIMIZAR</b> la suma de límistes de velocidad de cada calle respecto de estos mismos límites de la solución base </li>\n",
    "\n",
    "$$ V = \\frac {\\sum {Limite_{velocidad_{BASE}}}} {\\sum {Limite_{velocidad_{SOLUCIÓN}}}} $$\n",
    "\n",
    "Será mayor cuanto menores sean los límites de velocidad de la solución.\n",
    "\n",
    "<li> Según las opciones elegidas a optimizar: </li> \n",
    "<ul><li> Si se selecciona, a las distancias asignaremos un peso del 70%, a los tiempos (efectivos y perdidos) asignaremos el 10% y a los límites de velocidad de las calles el 20%, de tal forma que: </li></ul>\n",
    "\n",
    "$$ \\alpha = 7.0 \\;\\;\\;,\\;\\;\\; \\beta = 1.0 \\;\\;\\;,\\;\\;\\; \\gamma = 2.0 $$\n",
    "\n",
    "<ul><li> Con unos coeficientes a cada sumando de: </li></ul>\n",
    "\n",
    "$$ \\frac {\\alpha} {\\alpha + \\beta + \\gamma} \\;\\;\\;,\\;\\;\\; \\frac {\\beta} {\\alpha + \\beta + \\gamma} \\;\\;\\;,\\;\\;\\; \\frac {\\gamma} {\\alpha + \\beta + \\gamma} $$\n",
    "\n",
    "<center> respectivamente. </center>\n",
    "\n",
    "<ul><li> Aquella que no se seleccione tendrá un valor nulo </li></ul>\n",
    "\n",
    "<li> Por tanto, sumando cada una de las valoraciones: </li>\n",
    "\n",
    "$$ fitness = \\frac {100} {\\alpha + \\beta + \\gamma} * \\left( \\alpha * D + \\beta * T + \\gamma * V \\right) $$\n",
    "\n",
    "Desglosando:\n",
    "\n",
    "$$ fitness = \\frac {100} {\\alpha + \\beta + \\gamma} * \\left[ \\alpha * \\frac{d_{media_{SOLUCIÓN}}} {d_{media_{BASE}}} + \\beta * \\left( 0.5 * \\frac {t_{efectivo_{BASE}}} {t_{efectivo_{SOLUCIÓN}}} + 0.5 * \\frac {t_{perdido_{BASE}}} {t_{perdido_{SOLUCIÓN}}} \\right) + \\gamma * \\frac {\\sum {Lim_{vel_{BASE}}}} {\\sum {Lim_{vel_{SOLUCIÓN}}}} \\right] $$"
   ]
  },
  {
   "cell_type": "code",
   "execution_count": 6,
   "metadata": {},
   "outputs": [],
   "source": [
    "def fitness(vel_base, vel_test, archivo_base_xml, archivo_test_xml):\n",
    "    ftnss = 0.0\n",
    "    alfa, beta, gamma = 0.0, 0.0, 0.0\n",
    "    \n",
    "    base = ET.parse(archivo_base_xml)\n",
    "    raiz_base = base.getroot()\n",
    "\n",
    "    test = ET.parse(archivo_test_xml)\n",
    "    raiz_test = test.getroot()\n",
    "    \n",
    "    if optimiza_distancia:\n",
    "        dist_base = float(raiz_base.find('vehicleTripStatistics').get('routeLength'))\n",
    "        dist_test = float(raiz_test.find('vehicleTripStatistics').get('routeLength'))\n",
    "        alfa = 7.0\n",
    "        ftnss += alfa * (dist_test / dist_base)\n",
    "    \n",
    "    if optimiza_tiempos:\n",
    "        t_total_base = float(raiz_base.find('vehicleTripStatistics').get('duration'))\n",
    "        t_perdido_base = float(raiz_base.find('vehicleTripStatistics').get('timeLoss'))\n",
    "        t_efectivo_base = t_total_base - t_perdido_base\n",
    "        t_total_test = float(raiz_test.find('vehicleTripStatistics').get('duration'))\n",
    "        t_perdido_test = float(raiz_test.find('vehicleTripStatistics').get('timeLoss'))\n",
    "        t_efectivo_test = t_total_test - t_perdido_test\n",
    "        beta = 1.0\n",
    "        ftnss += beta * (0.5 * (t_efectivo_base / t_efectivo_test) + 0.5 * (t_perdido_base / t_perdido_test))\n",
    "\n",
    "    if optimiza_limites_velocidad:\n",
    "        gamma = 2.0\n",
    "        ftnss += gamma * (vel_base / vel_test)\n",
    "\n",
    "    return (100.0 / (alfa + beta + gamma)) * ftnss"
   ]
  },
  {
   "cell_type": "markdown",
   "metadata": {},
   "source": [
    "#### Generación de lista de números aleatorios\n",
    "\n",
    "Genera una lista de <b><i>n</i></b> números aleatorios, cuyos valores serán <b><i>múltiplos</i></b> a uno dado, entre un valor mínimo y máximo (ambos incluidos)."
   ]
  },
  {
   "cell_type": "code",
   "execution_count": 7,
   "metadata": {},
   "outputs": [],
   "source": [
    "def genera_lista(n = 1, minimo = 2.78, maximo = 13.90, multiplo = 2.78):\n",
    "    if maximo < minimo:\n",
    "        minimo, maximo = maximo, minimo\n",
    "    return [round((minimo + multiplo * random.randint(0, round((maximo - minimo) / multiplo))), 2) for _ in range(n)]"
   ]
  },
  {
   "cell_type": "markdown",
   "metadata": {},
   "source": [
    "#### Codificación del escenario\n",
    "\n",
    "Dados un identificador y los datos de un escenario en un archivo <b><i>xml</i></b>, obtendremos un individuo. Este individuo codificado será empleado por el algorítmo genético\n",
    "\n",
    "En un diccionario se almacenan las cantidades o índices de datos a codificar y decodificar, en los cáclulos del algoritmo y las simulaciones:\n",
    "A partir del archivo <b><i>xml</i></b> del escenario, codificamos la solucion con el valor de cada parámtro de cada elemento:\n",
    "<li> <b>Id</b>: identificador de la solución. Para la solución base <i>(con los parámetros por defecto)</i>: <b><i>id = 0</i></b> </li>\n",
    "<li> <b>Puntuación</b>: valor de la función fitness para la solución. Sin evaluar, será igual a <b><i>puntuación = - ∞</i></b> </li>\n",
    "<li> <b>Calles</b>: lista con los limites de velocidad de cada calle</li>\n",
    "<li> <b>Intersecciones</b>: tiempos de fases en cada ciclo <i>(excepto fases en ámbar)</i> </li>"
   ]
  },
  {
   "cell_type": "code",
   "execution_count": 8,
   "metadata": {},
   "outputs": [],
   "source": [
    "def codificador(id, ruta_archivo_net_xml):\n",
    "    individuo = {\n",
    "        'id' : id,\n",
    "        'puntuacion' : - float('inf')\n",
    "    }\n",
    "    if calcula_lim_velocidad:\n",
    "        individuo['v_calles'] = []\n",
    "    if calcula_fases_semaforos:\n",
    "        individuo['intersecciones'] = []\n",
    "\n",
    "    arbol = ET.parse(ruta_archivo_net_xml)\n",
    "    raiz = arbol.getroot()\n",
    "\n",
    "    if calcula_lim_velocidad:\n",
    "        for calle in raiz.findall('edge'):\n",
    "            if calle.get('id')[0] == ':':\n",
    "                continue\n",
    "            lim_velocidad = calle.find('lane').get('speed')\n",
    "            individuo['v_calles'].append(float(lim_velocidad))\n",
    "\n",
    "    if calcula_fases_semaforos:\n",
    "        for semaforo in raiz.findall('tlLogic'):\n",
    "            for fase in semaforo.findall('phase'):\n",
    "                estado = fase.get('state')\n",
    "                if 'y' not in estado:\n",
    "                    individuo['intersecciones'].append(int(fase.get('duration')))\n",
    "\n",
    "    return individuo"
   ]
  },
  {
   "cell_type": "markdown",
   "metadata": {},
   "source": [
    "#### Decodificación del individuo\n",
    "\n",
    "Dados los datos codificados de un <b><i>individuo</b></i> y los datos de un escenario en un archivo <b><i>xml</i></b> a editar, obtendremos el escenario <b><i>xml</i></b> correspondiente que será simulado y evaluado\n",
    "\n",
    "De los datos codificados estableceremos:\n",
    "<li> <b>Calles</b>: lista con los limites de velocidad de cada calle</li>\n",
    "<li> <b>Intersecciones</b>: tiempos de fases en cada ciclo <i>(excepto fases en ámbar)</i> </li>"
   ]
  },
  {
   "cell_type": "code",
   "execution_count": 9,
   "metadata": {},
   "outputs": [],
   "source": [
    "def decodificador(individuo, ruta_archivo_net_xml):\n",
    "    arbol = ET.parse(ruta_archivo_net_xml)\n",
    "    raiz = arbol.getroot()\n",
    "   \n",
    "    if calcula_lim_velocidad:\n",
    "        n_calles = 0\n",
    "        for calle in raiz.findall('edge'):\n",
    "            if calle.get('id')[0] == ':':\n",
    "                continue\n",
    "            for carril in calle.findall('lane'):\n",
    "                carril.set('speed', str(individuo['v_calles'][n_calles]))\n",
    "            n_calles += 1\n",
    "\n",
    "    if calcula_fases_semaforos:\n",
    "        n_fase = 0\n",
    "        for semaforo in raiz.findall('tlLogic'):\n",
    "            for fase in semaforo.findall('phase'):\n",
    "                estado = fase.get('state')\n",
    "                if 'y' not in estado:\n",
    "                    fase.set('duration', str(individuo['intersecciones'][n_fase]))\n",
    "                    n_fase += 1\n",
    "\n",
    "    arbol = ET.ElementTree(raiz)\n",
    "\n",
    "    try:\n",
    "        arbol.write(open(ruta_archivo_net_xml,'w'), encoding='unicode')\n",
    "    except PermissionError:\n",
    "        print(\"Error al escribir el archivo .net.xml\")\n",
    "    finally:\n",
    "        pass\n",
    "\n",
    "    return individuo"
   ]
  },
  {
   "cell_type": "markdown",
   "metadata": {},
   "source": [
    "#### Simuación y evaluación de cada individuo\n",
    "\n",
    "Para cada individuo a evaluar, se decodificará, simulará y puntuará según la función fitness\n",
    "\n",
    "Para cada solución que mejore a todas las anteriores, se guardará su identificador (que coincidirá con el ordinal de su creación) y su puntuación, para poder observar posteriromente la evolución del algoritmo: generación de soluciones y mejora de sus valoraciones\n",
    "\n",
    "Del individuo con mejor puntuación, se guardará también una copia del escenario y de los datos estadísticos de la simulación, para poder replicarla"
   ]
  },
  {
   "cell_type": "code",
   "execution_count": 10,
   "metadata": {},
   "outputs": [],
   "source": [
    "poblacion = []\n",
    "\n",
    "id_puntuacion_max = []\n",
    "puntuacion_max = []"
   ]
  },
  {
   "cell_type": "code",
   "execution_count": 11,
   "metadata": {},
   "outputs": [],
   "source": [
    "def evalua(sol):\n",
    "    decodificador(sol, './data/' + nombre_proyecto + '.test.net.xml')\n",
    "\n",
    "    traci.start([sumolib.checkBinary('sumo'), '-c', './data/' + nombre_proyecto + '.test.sumocfg',\n",
    "        '--tripinfo-output', './data/' + nombre_proyecto + '.test.tripInfo.xml',\n",
    "        '--tripinfo-output.write-unfinished', 'true',\n",
    "        '--statistic-output', './data/' + nombre_proyecto + '.test.tripStats.xml'\n",
    "    ])\n",
    "\n",
    "    traci.simulation.step(duracion)\n",
    "\n",
    "    traci.close()\n",
    "\n",
    "    if calcula_lim_velocidad == 0:\n",
    "        sol['v_calles'] = [1]\n",
    "\n",
    "    puntos = fitness(sum(sol_base['v_calles']), sum(sol['v_calles']),'./data/' + nombre_proyecto + '.tripStats.xml', './data/' + nombre_proyecto + '.test.tripStats.xml')\n",
    "    sol['puntuacion'] = puntos\n",
    "\n",
    "    if len(puntuacion_max) == 0:\n",
    "        id_puntuacion_max.append(sol['id'])\n",
    "        puntuacion_max.append(puntos)\n",
    "\n",
    "    if puntos > puntuacion_max[-1]:\n",
    "        id_puntuacion_max.append(sol['id'])\n",
    "        puntuacion_max.append(puntos)\n",
    "        \n",
    "        shutil.copy('./data/' + nombre_proyecto + '.test.net.xml',\n",
    "            './data/' + nombre_proyecto + '.BEST.net.xml')\n",
    "        shutil.copy('./data/' + nombre_proyecto + '.test.tripStats.xml',\n",
    "            './data/' + nombre_proyecto + '.BEST.tripStats.xml')"
   ]
  },
  {
   "cell_type": "markdown",
   "metadata": {},
   "source": [
    "## Tipos de escenarios"
   ]
  },
  {
   "cell_type": "markdown",
   "metadata": {},
   "source": [
    "#### Red tipo Manhattan\n",
    "\n",
    "<img src=\"./img/manhattan.png\">"
   ]
  },
  {
   "cell_type": "code",
   "execution_count": 12,
   "metadata": {},
   "outputs": [],
   "source": [
    "if tipo_red == 'Manhattan':\n",
    "\n",
    "    cmd_manhattan = ['netgenerate', \n",
    "        '--grid',\n",
    "        '--grid.x-number', str(calles_x),\n",
    "        '--grid.x-length', str(long_calles_x),\n",
    "        '--grid.y-number', str(calles_y),\n",
    "        '--grid.y-length', str(long_calles_y),\n",
    "        '--default.lanenumber', str(num_carriles),\n",
    "        '--default.speed', str(velocidad_max),\n",
    "        '--no-turnarounds', 'true',\n",
    "        '--default-junction-type', 'traffic_light',\n",
    "        '--no-turnarounds.tls', 'true',\n",
    "        '--tls.guess', 'true',\n",
    "        '--output-file', './data/' + nombre_proyecto + '.net.xml'\n",
    "    ]\n",
    "\n",
    "    subprocess.run(cmd_manhattan)"
   ]
  },
  {
   "cell_type": "markdown",
   "metadata": {},
   "source": [
    "#### Red tipo tela de araña\n",
    "\n",
    "<img src=\"./img/aranya.png\">"
   ]
  },
  {
   "cell_type": "code",
   "execution_count": 13,
   "metadata": {},
   "outputs": [],
   "source": [
    "if tipo_red == 'Spider':\n",
    "\n",
    "    cmd_aranya = ['netgenerate', \n",
    "        '--spider',\n",
    "        '--spider.arm-number', str(calles_radial),\n",
    "        '--spider.circle-number', str(calles_circular),\n",
    "        '--spider.space-radius', str(dist_calles_circular),\n",
    "        '--default.lanenumber', str(num_carriles),\n",
    "        '--default.speed', str(velocidad_max),\n",
    "        '--no-turnarounds', 'true',\n",
    "        '--default-junction-type', 'traffic_light',\n",
    "        '--no-turnarounds.tls', 'true',\n",
    "        '--tls.guess', 'true',\n",
    "        '--output-file', './data/' + nombre_proyecto + '.net.xml'\n",
    "    ]\n",
    "\n",
    "    subprocess.run(cmd_aranya)"
   ]
  },
  {
   "cell_type": "markdown",
   "metadata": {},
   "source": [
    "#### Red tipo aleatoria\n",
    "\n",
    "<img src=\"./img/aleatoria.png\">"
   ]
  },
  {
   "cell_type": "code",
   "execution_count": 14,
   "metadata": {},
   "outputs": [],
   "source": [
    "if tipo_red == 'RandomNet':\n",
    "\n",
    "    cmd_aleatoria = ['netgenerate', \n",
    "        '--rand',\n",
    "        '--rand.iterations', str(num_intersecciones),\n",
    "        '--rand.min-distance', str(long_calles_min),\n",
    "        '--rand.max-distance', str(long_calles_max),\n",
    "        '--default.lanenumber', str(num_carriles),\n",
    "        '--default.speed', str(velocidad_max),\n",
    "        '--rand.random-lanenumber', 'true',\n",
    "        '--no-turnarounds', 'true',\n",
    "        '--default-junction-type', 'traffic_light',\n",
    "        '--no-turnarounds.tls', 'true',\n",
    "        '--tls.guess', 'true',\n",
    "        '--output-file', './data/' + nombre_proyecto + '.net.xml'\n",
    "    ]\n",
    "\n",
    "    subprocess.run(cmd_aleatoria)"
   ]
  },
  {
   "cell_type": "markdown",
   "metadata": {},
   "source": [
    "#### Escenario real\n",
    "\n",
    "<img src=\"./img/zamora.png\">"
   ]
  },
  {
   "cell_type": "code",
   "execution_count": 15,
   "metadata": {},
   "outputs": [],
   "source": [
    "if tipo_red == 'Real':\n",
    "    cmd_mapa = ['netconvert',\n",
    "        '--osm-files', archivo_mapa,\n",
    "        '--geometry.remove', 'true',\n",
    "        '--junctions.join', 'true',\n",
    "        '--tls.guess-signals', 'true',\n",
    "        '--tls.discard-simple', 'true',\n",
    "        '--tls.join', 'true',\n",
    "        '--tls.default-type', 'actuated',\n",
    "        '--tls.min-dur', '3',\n",
    "        '--tls.max-dur', str(fase_max),\n",
    "        '--no-turnarounds', 'true',\n",
    "        '--no-turnarounds.tls', 'true',\n",
    "        '--tls.guess', 'true',\n",
    "        '--output-file', './data/' + nombre_proyecto + '.net.xml'\n",
    "    ]\n",
    "    \n",
    "    subprocess.run(cmd_mapa)"
   ]
  },
  {
   "cell_type": "markdown",
   "metadata": {},
   "source": [
    "## Generación de rutas"
   ]
  },
  {
   "cell_type": "markdown",
   "metadata": {},
   "source": [
    "Generación de rutas aleatorias para el escenario, según el número de vehículos y el tiempo a simular indicados.\n",
    "Las rutas se calcularán con uno de estos algoritmos:\n",
    "<li> <b>Dijkstra</b>: dijkstra </li>\n",
    "<li> <b>A*</b>: astar </li>"
   ]
  },
  {
   "cell_type": "code",
   "execution_count": 16,
   "metadata": {},
   "outputs": [
    {
     "name": "stdout",
     "output_type": "stream",
     "text": [
      "Algoritmo para el cálculo de rutas:  astar\n"
     ]
    }
   ],
   "source": [
    "randomTrips.main(randomTrips.get_options([ \n",
    "    '--net-file', './data/' + nombre_proyecto + '.net.xml',\n",
    "    '--begin', '0',\n",
    "    '--end', '1',\n",
    "    '--period', '1',\n",
    "    '--flows', str(2 * vehiculos),\n",
    "    '--output-trip-file', './data/' + nombre_proyecto + '.trips.xml'\n",
    "    ]\n",
    "))\n",
    "\n",
    "algoritmo = random.choice(['astar', 'dijkstra'])\n",
    "print(\"Algoritmo para el cálculo de rutas: \", algoritmo)"
   ]
  },
  {
   "cell_type": "code",
   "execution_count": 17,
   "metadata": {},
   "outputs": [
    {
     "data": {
      "text/plain": [
       "CompletedProcess(args=['duarouter', '--net-file', './data/Simulacion.net.xml', '--route-files', './data/Simulacion.trips.xml', '--begin', '0', '--end', '600', '--route-steps', '600', '--routing-algorithm', 'astar', '--output-file', './data/Simulacion.rou.xml'], returncode=0)"
      ]
     },
     "execution_count": 17,
     "metadata": {},
     "output_type": "execute_result"
    }
   ],
   "source": [
    "cmd_rutas = ['duarouter', \n",
    "    '--net-file', './data/' + nombre_proyecto + '.net.xml',\n",
    "    '--route-files', './data/' + nombre_proyecto + '.trips.xml',\n",
    "    '--begin', '0',\n",
    "    '--end', str(duracion),\n",
    "    '--route-steps', str(duracion),\n",
    "    '--routing-algorithm', str(algoritmo),\n",
    "    '--output-file', './data/' + nombre_proyecto + '.rou.xml'\n",
    "    ]\n",
    "\n",
    "subprocess.run(cmd_rutas)"
   ]
  },
  {
   "cell_type": "code",
   "execution_count": 18,
   "metadata": {},
   "outputs": [
    {
     "data": {
      "text/plain": [
       "CompletedProcess(args=['generateContinuousRerouters.py', '--end', '600', '-n', './data/Simulacion.net.xml', '-o', './data/Simulacion.contRou.xml'], returncode=0)"
      ]
     },
     "execution_count": 18,
     "metadata": {},
     "output_type": "execute_result"
    }
   ],
   "source": [
    "cmd_rutas_cont = ['generateContinuousRerouters.py',\n",
    "    '--end', str(duracion),\n",
    "    '-n', './data/' + nombre_proyecto + '.net.xml',\n",
    "    '-o', './data/' + nombre_proyecto + '.contRou.xml'\n",
    "]\n",
    "\n",
    "subprocess.run(cmd_rutas_cont, shell=True)"
   ]
  },
  {
   "cell_type": "markdown",
   "metadata": {},
   "source": [
    "## Archivos de configuración"
   ]
  },
  {
   "cell_type": "markdown",
   "metadata": {},
   "source": [
    "#### Generación de archivo de configuración de la simulación base\n",
    "\n",
    "Generación del archivo de configuración <b><i>sumocfg</i></b> para realizar la simulación con los datos por defecto del escenario"
   ]
  },
  {
   "cell_type": "code",
   "execution_count": 19,
   "metadata": {},
   "outputs": [],
   "source": [
    "configuracion = '''<?xml version=\"1.0\" encoding=\"iso-8859-1\"?>\n",
    "\n",
    "<configuration xmlns:xsi=\"http://www.w3.org/2001/XMLSchema-instance\" xsi:noNamespaceSchemaLocation=\"http://sumo.sf.net/xsd/sumoConfiguration.xsd\">\n",
    "\n",
    "    <input>\n",
    "        <net-file value=\"\"/>\n",
    "        <route-files value=\"\"/>\n",
    "\t\t<additional-files value=\"\"/>\n",
    "    </input>\n",
    "\n",
    "    <time>\n",
    "        <begin value=\"0\"/>\n",
    "        <end value=\"\"/>\n",
    "    </time>\n",
    "\n",
    "</configuration>\n",
    "'''\n",
    "\n",
    "raiz = ET.fromstring(configuracion)\n",
    "\n",
    "entrada = raiz.find('input')\n",
    "\n",
    "red = entrada.find('net-file')\n",
    "red.set('value', str(nombre_proyecto + '.net.xml'))\n",
    "\n",
    "rutas = entrada.find('route-files')\n",
    "rutas.set('value', str(nombre_proyecto + '.rou.xml'))\n",
    "\n",
    "rutas_cont = entrada.find('additional-files')\n",
    "rutas_cont.set('value', str(nombre_proyecto + '.contRou.xml'))\n",
    "\n",
    "tiempos = raiz.find('time')\n",
    "\n",
    "t_fin = tiempos.find('end')\n",
    "t_fin.set('value', str(duracion))\n",
    "\n",
    "arbol = ET.ElementTree(raiz)\n",
    "arbol.write(open('./data/' + nombre_proyecto + '.sumocfg','w'), encoding='unicode')\n",
    "\n",
    "# ET.dump(raiz)"
   ]
  },
  {
   "cell_type": "markdown",
   "metadata": {},
   "source": [
    "#### Generación de los archivo de configuración y de escenario"
   ]
  },
  {
   "cell_type": "markdown",
   "metadata": {},
   "source": [
    "Copia del archivo de configuración <b><i>sumocfg</i></b> para realizar las simulaciones con los individuos de la población. \n",
    "\n",
    "El escenario y las rutas serán las mismas para que los resultados sean comparables. \n",
    "Unicamente se modificarán los datos referentes a límites de velocidad y fases de semáforos para cada simulación. \n",
    "\n",
    "Se hará una copia del archivo del escenario base para la simulacion en curso, a modificar y evaluar"
   ]
  },
  {
   "cell_type": "code",
   "execution_count": 20,
   "metadata": {},
   "outputs": [
    {
     "data": {
      "text/plain": [
       "'./data/Simulacion.test.net.xml'"
      ]
     },
     "execution_count": 20,
     "metadata": {},
     "output_type": "execute_result"
    }
   ],
   "source": [
    "shutil.copy('./data/' + nombre_proyecto + '.sumocfg',\n",
    "    './data/' + nombre_proyecto + '.test.sumocfg')\n",
    "\n",
    "arbol = ET.parse('./data/' + nombre_proyecto + '.test.sumocfg')\n",
    "raiz = arbol.getroot()\n",
    "entrada = raiz.find('input')\n",
    "red = entrada.find('net-file')\n",
    "red.set('value', str(nombre_proyecto + '.test.net.xml'))\n",
    "\n",
    "arbol = ET.ElementTree(raiz)\n",
    "arbol.write(open('./data/' + nombre_proyecto + '.test.sumocfg','w'), encoding='unicode')\n",
    "\n",
    "# ET.dump(arbol)\n",
    "\n",
    "shutil.copy('./data/' + nombre_proyecto + '.net.xml',\n",
    "    './data/' + nombre_proyecto + '.test.net.xml')"
   ]
  },
  {
   "cell_type": "markdown",
   "metadata": {},
   "source": [
    "Copia del archivo de configuración <b><i>sumocfg</i></b> para realizar la simulación del mejor individuo de la población.\n",
    "\n",
    "Se hará una copia del archivo del escenario base para guardar la simulacion que mejor haya puntuado hasta el momento."
   ]
  },
  {
   "cell_type": "code",
   "execution_count": 21,
   "metadata": {},
   "outputs": [
    {
     "data": {
      "text/plain": [
       "'./data/Simulacion.BEST.net.xml'"
      ]
     },
     "execution_count": 21,
     "metadata": {},
     "output_type": "execute_result"
    }
   ],
   "source": [
    "shutil.copy('./data/' + nombre_proyecto + '.sumocfg',\n",
    "    './data/' + nombre_proyecto + '.BEST.sumocfg')\n",
    "\n",
    "arbol = ET.parse('./data/' + nombre_proyecto + '.BEST.sumocfg')\n",
    "raiz = arbol.getroot()\n",
    "entrada = raiz.find('input')\n",
    "red = entrada.find('net-file')\n",
    "red.set('value', str(nombre_proyecto + '.BEST.net.xml'))\n",
    "\n",
    "arbol = ET.ElementTree(raiz)\n",
    "arbol.write(open('./data/' + nombre_proyecto + '.BEST.sumocfg','w'), encoding='unicode')\n",
    "\n",
    "# ET.dump(arbol)\n",
    "\n",
    "shutil.copy('./data/' + nombre_proyecto + '.net.xml',\n",
    "    './data/' + nombre_proyecto + '.BEST.net.xml')"
   ]
  },
  {
   "cell_type": "markdown",
   "metadata": {},
   "source": [
    "## Solución base\n",
    "\n",
    "#### Codificación de la solución base\n",
    "\n",
    "Codificación según los datos del escenario"
   ]
  },
  {
   "cell_type": "code",
   "execution_count": 22,
   "metadata": {},
   "outputs": [],
   "source": [
    "sol_base = codificador(0, './data/' + nombre_proyecto + '.net.xml')"
   ]
  },
  {
   "cell_type": "markdown",
   "metadata": {},
   "source": [
    "#### Simulación de la solución base\n",
    "\n",
    "Simulación con los datos por defecto, de <i>SUMO</i> o del escenario importado desde <i>OpenStreetMap</i>, que serán tomados como base de comparación"
   ]
  },
  {
   "cell_type": "code",
   "execution_count": 23,
   "metadata": {},
   "outputs": [
    {
     "name": "stdout",
     "output_type": "stream",
     "text": [
      "4.367 segundos\n"
     ]
    }
   ],
   "source": [
    "t_start = time.time()\n",
    "\n",
    "traci.start([sumolib.checkBinary('sumo'), '-c', './data/' + nombre_proyecto + '.sumocfg',\n",
    "    '--tripinfo-output', './data/' + nombre_proyecto + '.tripInfo.xml',\n",
    "    '--tripinfo-output.write-unfinished', 'true',\n",
    "    '--statistic-output', './data/' + nombre_proyecto + '.tripStats.xml'\n",
    "])\n",
    "\n",
    "traci.simulation.step(duracion)\n",
    "\n",
    "traci.close()\n",
    "\n",
    "print(f'{time.time() - t_start:5.3f} segundos')"
   ]
  },
  {
   "cell_type": "markdown",
   "metadata": {},
   "source": [
    "#### Puntuación\n",
    "\n",
    "Valoración de la solución base, según la función fitness"
   ]
  },
  {
   "cell_type": "code",
   "execution_count": 24,
   "metadata": {},
   "outputs": [
    {
     "name": "stdout",
     "output_type": "stream",
     "text": [
      "Puntuación solución base = 100.000\n"
     ]
    }
   ],
   "source": [
    "if calcula_lim_velocidad == 0:\n",
    "    sol_base['v_calles'] = [1]\n",
    "\n",
    "sol_base['puntuacion'] = fitness(sum(sol_base['v_calles']), sum(sol_base['v_calles']),'./data/' + nombre_proyecto + '.tripStats.xml', './data/' + nombre_proyecto + '.tripStats.xml')\n",
    "\n",
    "print(f\"Puntuación solución base = {sol_base['puntuacion']:5.3f}\")"
   ]
  },
  {
   "cell_type": "markdown",
   "metadata": {},
   "source": [
    "## Generación de la población\n",
    "\n",
    "#### Creación de los individuos de la población inicial\n",
    "\n",
    "Generamos aleatoriamente una población de individuos codificados, a partir del escenario y la solución base ya evaluadas"
   ]
  },
  {
   "cell_type": "code",
   "execution_count": 25,
   "metadata": {},
   "outputs": [],
   "source": [
    "if calcula_lim_velocidad:\n",
    "    num_calles = len(sol_base['v_calles'])\n",
    "if calcula_fases_semaforos:\n",
    "    num_fases = len(sol_base['intersecciones'])"
   ]
  },
  {
   "cell_type": "code",
   "execution_count": 26,
   "metadata": {},
   "outputs": [],
   "source": [
    "random.seed()"
   ]
  },
  {
   "cell_type": "code",
   "execution_count": 27,
   "metadata": {},
   "outputs": [],
   "source": [
    "for sol in range(1, tam_poblacion + 1):\n",
    "    individuo = {\n",
    "        'id' : sol,\n",
    "        'puntuacion' : - float('inf')\n",
    "    }\n",
    "    if calcula_lim_velocidad:\n",
    "        individuo['v_calles'] = genera_lista(n=num_calles, minimo=2.78, maximo=velocidad_max, multiplo=2.78)\n",
    "    if calcula_fases_semaforos:\n",
    "        individuo['intersecciones'] = genera_lista(n=num_fases, minimo=3.00, maximo=fase_max, multiplo=1.00)\n",
    "\n",
    "    poblacion.append(individuo)"
   ]
  },
  {
   "cell_type": "markdown",
   "metadata": {},
   "source": [
    "#### Simulación y evaluación de la población inicial"
   ]
  },
  {
   "cell_type": "code",
   "execution_count": 28,
   "metadata": {},
   "outputs": [],
   "source": [
    "t_start = time.time()\n",
    "\n",
    "for sol in range(tam_poblacion):\n",
    "    evalua(poblacion[sol])\n",
    "    if sol % 25 == 0:\n",
    "        poblacion.sort(key= lambda pobl: pobl['puntuacion'], reverse=True)\n",
    "        print(f'{int(sol):5d} de {int(tam_poblacion):5d} || Id. Mejor solución = {int(poblacion[0][\"id\"]):5d} || {(poblacion[0][\"puntuacion\"]):5.3f} puntos')\n",
    "\n",
    "\n",
    "print(f'{(time.time() - t_start) / tam_poblacion:5.3f} segundos por evaluación')"
   ]
  },
  {
   "cell_type": "code",
   "execution_count": null,
   "metadata": {},
   "outputs": [],
   "source": [
    "poblacion.sort(key= lambda pobl: pobl['puntuacion'], reverse=True)\n",
    "poblacion = poblacion[:tam_poblacion]"
   ]
  },
  {
   "cell_type": "markdown",
   "metadata": {},
   "source": [
    "## Desarrollo del algoritmo genético: Evolución de la población"
   ]
  },
  {
   "cell_type": "markdown",
   "metadata": {
    "tags": []
   },
   "source": [
    "#### Elección equiprobable de indivuos\n",
    "\n",
    "Si se ha seleccionado la elección equiprobable de individuos <b><i>i</i></b>, cada uno podrá ser tomado con probabilidad inversamente proporcional al tamaño de la población <b><i>n</i></b>:\n",
    "\n",
    "$$ p = \\frac {1} {n} $$\n",
    "\n",
    "#### Elección ponderada de individuos\n",
    "\n",
    "En este caso, establecemos la probabilidad de elección de cada individuo <b><i>i</i></b>, inversamente proporcional a la posición que ocupa dentro de la población ordenada por puntuación.\n",
    "\n",
    "$$ p_i = \\frac {1} {i} * \\frac {1} {\\sum_{j=1}^{n} \\frac {1} {j} } $$"
   ]
  },
  {
   "cell_type": "code",
   "execution_count": null,
   "metadata": {},
   "outputs": [],
   "source": [
    "pos, pond = [], []\n",
    "for i in range(tam_poblacion):\n",
    "    pos, pond = pos + [i], pond + [1 / (i + 1)]\n",
    "total = sum(pond)\n",
    "prob_eleccion = [(pond[i] / total) for i in range(tam_poblacion)]"
   ]
  },
  {
   "cell_type": "markdown",
   "metadata": {},
   "source": [
    "#### Evolución\n",
    "\n",
    "A partir de esta población, se cruzarán los individuos dos a dos, y/o se mutarán en según la probabilidad indicada.\n",
    "\n",
    "Como el cruce genera dos individuos, la probabilidad de esta elección será la mitad ya que se evaluarán ambos individuos."
   ]
  },
  {
   "cell_type": "code",
   "execution_count": null,
   "metadata": {},
   "outputs": [],
   "source": [
    "ini = tam_poblacion + 1\n",
    "fin = iteraciones + ini\n",
    "\n",
    "i = ini\n",
    "evolucion = ''"
   ]
  },
  {
   "cell_type": "code",
   "execution_count": null,
   "metadata": {
    "tags": []
   },
   "outputs": [
    {
     "name": "stdout",
     "output_type": "stream",
     "text": [
      "    0 de  2500 || Id. Mejor solución =   136 || 103.638 puntos\n"
     ]
    }
   ],
   "source": [
    "t_start = time.time()\n",
    "\n",
    "while i <= fin:\n",
    "    # Si la última solución es múltiplo de 25 \n",
    "    if (i - ini) % 25 == 0: \n",
    "        print(f'{int(i - ini):5d} de {int(fin - ini):5d} || Id. Mejor solución = {int(poblacion[0][\"id\"]):5d} || {(poblacion[0][\"puntuacion\"]):5.3f} puntos')\n",
    "    # Si se ha producido un cruce y la primera solución es multiplo de 25\n",
    "    if evolucion == 'Cruce' and (i - ini) % 25 == 1: \n",
    "        print(f'{int(i - ini - 1):5d} de {int(fin - ini):5d} || Id. Mejor solución = {int(poblacion[0][\"id\"]):5d} || {(poblacion[0][\"puntuacion\"]):5.3f} puntos')\n",
    "\n",
    "    evolucion = random.choices(['Cruce','Mutacion', 'Nuevo'], \n",
    "        weights = ((0.5 * prob_cruce) / (0.5 * prob_cruce + prob_mutacion + prob_nuevo), \n",
    "            (prob_mutacion) / (0.5 * prob_cruce + prob_mutacion + prob_nuevo), \n",
    "            (prob_nuevo) / (0.5 * prob_cruce + prob_mutacion + prob_nuevo)),\n",
    "        k = 1)[0]\n",
    "\n",
    "    if evolucion == 'Cruce':\n",
    "        if seleccion == 'equiprobable':\n",
    "            padres = [random.randint(0, tam_poblacion - 1), random.randint(0, tam_poblacion - 1)]\n",
    "        if seleccion == 'ponderada':\n",
    "            padres = random.choices(pos, prob_eleccion, k=2)\n",
    "        if calcula_lim_velocidad:\n",
    "            cruce_calles = cruce(poblacion[padres[0]]['v_calles'], poblacion[padres[1]]['v_calles'], num_ptos_cruce)\n",
    "        if calcula_fases_semaforos:\n",
    "            cruce_intersecciones = cruce(poblacion[padres[0]]['intersecciones'], poblacion[padres[1]]['intersecciones'], num_ptos_cruce)\n",
    "\n",
    "        hijo1 = {\n",
    "            'id' : i,\n",
    "            'puntuacion' : - float('inf')\n",
    "        }\n",
    "        if calcula_lim_velocidad:\n",
    "            hijo1['v_calles'] = cruce_calles[0]\n",
    "        if calcula_fases_semaforos:\n",
    "            hijo1['intersecciones'] = cruce_intersecciones[0]\n",
    "\n",
    "        evalua(hijo1)\n",
    "        poblacion.append(hijo1)\n",
    "        \n",
    "        i += 1\n",
    "        hijo2 = {\n",
    "            'id' : i,\n",
    "            'puntuacion' : - float('inf')\n",
    "        }\n",
    "        if calcula_lim_velocidad:\n",
    "            hijo2['v_calles'] = cruce_calles[1]\n",
    "        if calcula_fases_semaforos:\n",
    "            hijo2['intersecciones'] = cruce_intersecciones[1]\n",
    "\n",
    "        evalua(hijo2)\n",
    "        poblacion.append(hijo2)\n",
    "\n",
    "    if evolucion == 'Mutacion':\n",
    "        if seleccion == 'equiprobable':\n",
    "            padre = [random.randint(0, tam_poblacion - 1)]\n",
    "        if seleccion == 'ponderada':\n",
    "            padre = random.choices(pos, prob_eleccion, k=1)\n",
    "        if calcula_lim_velocidad:\n",
    "            mutacion_calles = mutacion(poblacion[padre[0]]['v_calles'], 2.78, velocidad_max, 2.78, num_mutaciones)\n",
    "        if calcula_fases_semaforos:\n",
    "            mutacion_intersecciones = mutacion(poblacion[padre[0]]['intersecciones'], 3.00, fase_max, 1.00, num_mutaciones)\n",
    "        \n",
    "        hijo = {\n",
    "            'id' : i,\n",
    "            'puntuacion' : - float('inf')\n",
    "        }\n",
    "        if calcula_lim_velocidad:\n",
    "            hijo['v_calles'] = mutacion_calles\n",
    "        if calcula_fases_semaforos:\n",
    "            hijo['intersecciones'] = mutacion_intersecciones\n",
    "\n",
    "        evalua(hijo)\n",
    "        poblacion.append(hijo)\n",
    "    \n",
    "    if evolucion == 'Nuevo':\n",
    "        hijo = {\n",
    "            'id' : i,\n",
    "            'puntuacion' : - float('inf')\n",
    "        }\n",
    "        if calcula_lim_velocidad:\n",
    "            hijo['v_calles'] = genera_lista(n=num_calles, minimo=2.78, maximo=velocidad_max, multiplo=2.78)\n",
    "        if calcula_fases_semaforos:\n",
    "            hijo['intersecciones'] = genera_lista(n=num_fases, minimo=3.00, maximo=fase_max, multiplo=1.00)\n",
    "\n",
    "        evalua(hijo)\n",
    "        poblacion.append(hijo)\n",
    "    \n",
    "    i += 1\n",
    "\n",
    "    poblacion.sort(key= lambda pobl: pobl['puntuacion'], reverse=True)\n",
    "    poblacion = poblacion[:tam_poblacion]\n",
    "\n",
    "    if poblacion[0]['id'] + 2 * tam_poblacion > fin:\n",
    "        fin = poblacion[0]['id'] + 2 * tam_poblacion + 1\n",
    "\n",
    "print(f'{(time.time() - t_start) / (fin - ini):5.3f} segundos por evaluación')"
   ]
  },
  {
   "cell_type": "code",
   "execution_count": null,
   "metadata": {},
   "outputs": [],
   "source": [
    "# Puntuaciones de la última iteración\n",
    "id_puntuacion_max.append(fin)\n",
    "puntuacion_max.append(puntuacion_max[-1])"
   ]
  },
  {
   "cell_type": "markdown",
   "metadata": {},
   "source": [
    "## Gráfico de evolución\n",
    "\n",
    "Se observa la variación en la mejor puntuación, comparada con la puntuación de la solución base"
   ]
  },
  {
   "cell_type": "code",
   "execution_count": null,
   "metadata": {},
   "outputs": [
    {
     "data": {
      "image/png": "[encoded data removed]",
      "text/plain": [
       "<Figure size 432x288 with 1 Axes>"
      ]
     },
     "metadata": {
      "needs_background": "light"
     },
     "output_type": "display_data"
    }
   ],
   "source": [
    "plt.title('Evolución de\\nla puntuación\\n', fontsize=14, fontweight ='bold')\n",
    "\n",
    "plt.plot(id_puntuacion_max, puntuacion_max, color='b', linewidth=1.0, label='Puntuación de la solución')\n",
    "plt.scatter(id_puntuacion_max[0:-1], puntuacion_max[:-1], color='b', linewidth=1.0)\n",
    "plt.xlabel(\"Solución\", fontweight ='bold', loc='right')\n",
    "plt.ylabel(\"Puntuación\", fontweight ='bold', loc='top')\n",
    "plt.hlines(sol_base['puntuacion'], color='r', xmin=0, xmax=max(id_puntuacion_max))\n",
    "\n",
    "plt.show()"
   ]
  },
  {
   "cell_type": "markdown",
   "metadata": {},
   "source": [
    "Valores de la gráfica, tabulados"
   ]
  },
  {
   "cell_type": "code",
   "execution_count": null,
   "metadata": {},
   "outputs": [
    {
     "name": "stdout",
     "output_type": "stream",
     "text": [
      "    1   -    92.560 puntos   -     0.000 %\n",
      "    3   -    99.391 puntos   -     7.380 %\n",
      "   14   -   103.127 puntos   -     3.758 %\n",
      "   24   -   105.331 puntos   -     2.138 %\n",
      "  260   -   105.489 puntos   -     0.149 %\n",
      "  278   -   106.004 puntos   -     0.489 %\n",
      "  297   -   107.091 puntos   -     1.025 %\n",
      "  302   -   107.784 puntos   -     0.647 %\n",
      "  349   -   108.823 puntos   -     0.965 %\n",
      "  503   -   109.764 puntos   -     0.865 %\n",
      "  560   -   110.620 puntos   -     0.780 %\n",
      " 2751   -   110.620 puntos   -     0.000 %\n"
     ]
    }
   ],
   "source": [
    "for i in range(len(puntuacion_max)):\n",
    "    print(f'{int(id_puntuacion_max[i]):5d}   -   {puntuacion_max[i]:7.3f} puntos   -   {min(100, 100 * (puntuacion_max[i] - puntuacion_max[max(0, i- 1)]) / puntuacion_max[max(0, i- 1)]):7.3f} %')"
   ]
  },
  {
   "cell_type": "markdown",
   "metadata": {},
   "source": [
    "#### Datos varios"
   ]
  },
  {
   "cell_type": "markdown",
   "metadata": {},
   "source": [
    "Algunos datos estadísticos"
   ]
  },
  {
   "cell_type": "code",
   "execution_count": null,
   "metadata": {},
   "outputs": [
    {
     "name": "stdout",
     "output_type": "stream",
     "text": [
      "Maximo en iteracion =  560\n",
      "Puntuacion minima   =  92.56015768556166\n",
      "Puntuacion media    =  105.08952405256947\n",
      "Puntuacion mediana  =  106.00419685746431\n",
      "Puntuacion maxima   =  110.62001368004724\n"
     ]
    }
   ],
   "source": [
    "print(\"Maximo en iteracion = \", max(id_puntuacion_max[0:-1]))\n",
    "print(\"Puntuacion minima   = \", min(puntuacion_max[:-1]))\n",
    "print(\"Puntuacion media    = \", sum(puntuacion_max[:-1]) / len(puntuacion_max[:-1]))\n",
    "print(\"Puntuacion mediana  = \", puntuacion_max[int(len(puntuacion_max[:-1])/2.0)])\n",
    "print(\"Puntuacion maxima   = \", max(puntuacion_max[:-1]))"
   ]
  },
  {
   "cell_type": "markdown",
   "metadata": {},
   "source": [
    "Identifcadores de las soluciones, ordenadas por puntuación"
   ]
  },
  {
   "cell_type": "code",
   "execution_count": null,
   "metadata": {},
   "outputs": [
    {
     "name": "stdout",
     "output_type": "stream",
     "text": [
      "560 755 759 616 1075 503 1282 1010 1620 543 2698 349 364 365 486 487 578 1077 442 909 2331 999 886 2286 1168 2253 1433 1261 2214 1866 302 1953 402 617 1841 2598 2196 2519 2750 2374 2177 412 354 561 1140 399 1625 297 299 300 1112 851 2639 2360 702 821 1098 859 1097 1239 1925 2719 628 769 434 2429 542 316 1373 2498 973 703 352 679 362 2557 1223 1011 472 455 1367 1902 605 622 1052 656 278 283 2341 1663 2333 1741 479 1504 1263 2392 2694 970 329 2471 1869 401 594 1151 639 983 2530 361 1241 1805 516 305 1914 2406 855 260 282 2086 2282 2318 1743 368 265 602 762 630 1690 471 1563 403 577 24 1665 356 1192 589 573 595 2016 989 2665 259 925 1844 854 351 292 1276 2206 750 1253 2443 2045 660 565 1055 328 405 2608 1376 1622 978 665 2219 618 443 1141 2434 2013 1850 296 68 1734 1789 830 1704 456 2194 492 1248 1878 632 641 642 2128 2258 1732 307 832 371 1158 710 483 2722 1887 2428 598 285 389 431 1814 2618 1701 2457 1049 1551 333 2442 1580 2012 2062 315 1555 1170 372 1048 1915 2102 1090 1394 396 678 634 1157 1432 1101 705 254 2159 1880 418 1334 1911 506 269 1412 1291 411 731 2073 1435 467 495 1976 2008 480 1407 2535 1542 1249 "
     ]
    }
   ],
   "source": [
    "for i in sorted(poblacion, key=lambda pobl:pobl['puntuacion'], reverse=True):\n",
    "    print(i['id'], end=' ')"
   ]
  }
 ],
 "metadata": {
  "kernelspec": {
   "display_name": "Python 3 (ipykernel)",
   "language": "python",
   "name": "python3"
  },
  "language_info": {
   "codemirror_mode": {
    "name": "ipython",
    "version": 3
   },
   "file_extension": ".py",
   "mimetype": "text/x-python",
   "name": "python",
   "nbconvert_exporter": "python",
   "pygments_lexer": "ipython3",
   "version": "3.8.0"
  },
  "vscode": {
   "interpreter": {
    "hash": "18508771dfcd906d655a2f71028bca7764648ec61af91f18ec88128cb51314c0"
   }
  }
 },
 "nbformat": 4,
 "nbformat_minor": 4
}
